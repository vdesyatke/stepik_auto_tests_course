{
 "cells": [
  {
   "cell_type": "code",
   "execution_count": 2,
   "metadata": {},
   "outputs": [],
   "source": [
    "from selenium import webdriver\n",
    "from selenium.webdriver.common.by import By\n",
    "import time\n",
    "import math"
   ]
  },
  {
   "cell_type": "code",
   "execution_count": 9,
   "metadata": {},
   "outputs": [],
   "source": [
    "link = 'http://suninjuly.github.io/simple_form_find_task.html'\n",
    "try:\n",
    "    browser = webdriver.Chrome()\n",
    "    browser.get(link)\n",
    "    \n",
    "    input1 = browser.find_element(By.TAG_NAME, 'input')\n",
    "    input1.send_keys('Nikita')\n",
    "    \n",
    "    input2 = browser.find_element(By.NAME, 'last_name')\n",
    "    input2.send_keys('Andronov')\n",
    "    \n",
    "    input3 = browser.find_element(By.CLASS_NAME, 'city')\n",
    "    input3.send_keys('Samara')\n",
    "    \n",
    "    input4 = browser.find_element(By.ID, 'country')\n",
    "    input4.send_keys('Russian Federation')\n",
    "    \n",
    "    button = browser.find_element(By.CSS_SELECTOR, '#submit_button')\n",
    "    button.click()\n",
    "    \n",
    "finally:\n",
    "    time.sleep(30)\n",
    "    browser.quit()\n",
    "    \n",
    "# пустая строка для линукса http://suninjuly.github.io/registration2.html"
   ]
  },
  {
   "cell_type": "code",
   "execution_count": 14,
   "metadata": {},
   "outputs": [],
   "source": [
    "link = 'https://www.degreesymbol.net/'\n",
    "link_text = 'Degree Symbol in Math'"
   ]
  },
  {
   "cell_type": "code",
   "execution_count": 15,
   "metadata": {},
   "outputs": [],
   "source": [
    "try:\n",
    "    browser = webdriver.Chrome()\n",
    "    browser.get(link)\n",
    "    l1 = browser.find_element(By.LINK_TEXT, link_text)\n",
    "    l1.click()\n",
    "finally: \n",
    "    time.sleep(10)\n",
    "    browser.quit()"
   ]
  },
  {
   "cell_type": "code",
   "execution_count": 20,
   "metadata": {},
   "outputs": [],
   "source": []
  },
  {
   "cell_type": "code",
   "execution_count": 28,
   "metadata": {},
   "outputs": [],
   "source": [
    "link = 'http://suninjuly.github.io/find_xpath_form'\n",
    "# link_text = str(math.ceil(math.pow(math.pi, math.e)*10000))\n",
    "\n",
    "try:\n",
    "    browser = webdriver.Chrome()\n",
    "    browser.get(link)\n",
    "#     browser.find_element(By.LINK_TEXT, link_text).click()\n",
    "        \n",
    "    input1 = browser.find_element(By.TAG_NAME, 'input')\n",
    "    input1.send_keys('Nikita')\n",
    "    \n",
    "    input2 = browser.find_element(By.NAME, 'last_name')\n",
    "    input2.send_keys('Andronov')\n",
    "    \n",
    "    input3 = browser.find_element(By.CLASS_NAME, 'city')\n",
    "    input3.send_keys('Samara')\n",
    "    \n",
    "    input4 = browser.find_element(By.ID, 'country')\n",
    "    input4.send_keys('Russian Federation')\n",
    "    \n",
    "#     button = browser.find_element(By.CSS_SELECTOR, '.btn-default')\n",
    "    button = browser.find_element(By.XPATH, '//button[@type = \"submit\"]')\n",
    "    button.click()\n",
    "\n",
    "finally:\n",
    "    time.sleep(10)\n",
    "    browser.quit()"
   ]
  },
  {
   "cell_type": "code",
   "execution_count": 26,
   "metadata": {},
   "outputs": [],
   "source": [
    "try:\n",
    "    browser = webdriver.Chrome()\n",
    "    browser.get(\"http://suninjuly.github.io/huge_form.html\")\n",
    "    elements = browser.find_elements(By.TAG_NAME, 'input')\n",
    "    for element in elements:\n",
    "        element.send_keys(\"Мой ответ\")\n",
    "\n",
    "    button = browser.find_element(By.CSS_SELECTOR, \"button.btn\")\n",
    "    button.click()\n",
    "\n",
    "finally:\n",
    "    # успеваем скопировать код за 30 секунд\n",
    "    time.sleep(30)\n",
    "    # закрываем браузер после всех манипуляций\n",
    "    browser.quit()\n",
    "\n",
    "# не забываем оставить пустую строку в конце файла"
   ]
  },
  {
   "cell_type": "markdown",
   "metadata": {},
   "source": [
    "## Задание 1.5 и 1.6"
   ]
  },
  {
   "cell_type": "code",
   "execution_count": 5,
   "metadata": {},
   "outputs": [],
   "source": [
    "from selenium import webdriver\n",
    "from selenium.webdriver.common.by import By\n",
    "import time\n",
    "\n",
    "try: \n",
    "#     link = \"http://suninjuly.github.io/registration1.html\"\n",
    "    link = 'http://suninjuly.github.io/registration2.html'\n",
    "    browser = webdriver.Chrome()\n",
    "    browser.get(link)\n",
    "\n",
    "    # Ваш код, который заполняет обязательные поля\n",
    "    first = browser.find_element(By.CSS_SELECTOR, '.first_block .form-control.first')\n",
    "    first.send_keys('Nikita')\n",
    "        \n",
    "    second = browser.find_element(By.CSS_SELECTOR, 'div.first_block .form-control.second')\n",
    "    second.send_keys('Andronov')\n",
    "    \n",
    "    third = browser.find_element(By.CSS_SELECTOR, 'div.first_block .form-control.third')\n",
    "    third.send_keys('nikitok1@mail.ru')\n",
    "    \n",
    "    fourth = browser.find_element(By.CSS_SELECTOR, 'div.second_block .form-control.first')\n",
    "    fourth.send_keys('+79277409350')\n",
    "    \n",
    "    fifth = browser.find_element(By.CSS_SELECTOR, 'div.second_block .form-control.second')\n",
    "    fifth.send_keys('Samara, 33 Vodnikov street')\n",
    "    \n",
    "    # Отправляем заполненную форму\n",
    "    button = browser.find_element(By.CSS_SELECTOR, \"button.btn\")\n",
    "    button.click()\n",
    "\n",
    "    # Проверяем, что смогли зарегистрироваться\n",
    "    # ждем загрузки страницы\n",
    "    time.sleep(1)\n",
    "\n",
    "    # находим элемент, содержащий текст\n",
    "    welcome_text_elt = browser.find_element(By.TAG_NAME, \"h1\")\n",
    "    # записываем в переменную welcome_text текст из элемента welcome_text_elt\n",
    "    welcome_text = welcome_text_elt.text\n",
    "\n",
    "    # с помощью assert проверяем, что ожидаемый текст совпадает с текстом на странице сайта\n",
    "    assert \"Congratulations! You have successfully registered!\" == welcome_text\n",
    "\n",
    "finally:\n",
    "    # ожидание чтобы визуально оценить результаты прохождения скрипта\n",
    "    time.sleep(3)\n",
    "    # закрываем браузер после всех манипуляций\n",
    "    browser.quit()"
   ]
  },
  {
   "cell_type": "markdown",
   "metadata": {},
   "source": [
    "# Задание 2.1"
   ]
  },
  {
   "cell_type": "code",
   "execution_count": 6,
   "metadata": {},
   "outputs": [],
   "source": [
    "from selenium import webdriver\n",
    "from selenium.webdriver.common.by import By\n",
    "import time\n",
    "import math"
   ]
  },
  {
   "cell_type": "code",
   "execution_count": 14,
   "metadata": {},
   "outputs": [],
   "source": [
    "def calc(x):\n",
    "    return str(math.log(abs(12*math.sin(int(x)))))\n",
    "\n",
    "try: \n",
    "    link = 'http://suninjuly.github.io/math.html'\n",
    "    browser = webdriver.Chrome()\n",
    "    browser.get(link)\n",
    "    \n",
    "    x_element = browser.find_element(By.CSS_SELECTOR, \"#input_value\")\n",
    "    x = x_element.text\n",
    "    y = calc(x)\n",
    "    \n",
    "    field_to_fill = browser.find_element(By.CSS_SELECTOR, \"#answer\")\n",
    "    field_to_fill.send_keys(y)\n",
    "    \n",
    "    browser.find_element(By.CSS_SELECTOR, \"#robotCheckbox\").click()\n",
    "    browser.find_element(By.CSS_SELECTOR, \"#robotsRule\").click()\n",
    "    \n",
    "    submit_button = browser.find_element(By.CSS_SELECTOR, \"button.btn\")\n",
    "    submit_button.click()\n",
    "\n",
    "finally:\n",
    "    # ожидание чтобы визуально оценить результаты прохождения скрипта\n",
    "    time.sleep(10)\n",
    "    # закрываем браузер после всех манипуляций\n",
    "    browser.quit()"
   ]
  },
  {
   "cell_type": "markdown",
   "metadata": {},
   "source": [
    "# Задание 2.1 (второе)"
   ]
  },
  {
   "cell_type": "code",
   "execution_count": 15,
   "metadata": {},
   "outputs": [],
   "source": [
    "from selenium import webdriver\n",
    "from selenium.webdriver.common.by import By\n",
    "import time\n",
    "import math"
   ]
  },
  {
   "cell_type": "code",
   "execution_count": 16,
   "metadata": {},
   "outputs": [],
   "source": [
    "def calc(x):\n",
    "    return str(math.log(abs(12*math.sin(int(x)))))\n",
    "\n",
    "try: \n",
    "    link = 'http://suninjuly.github.io/get_attribute.html'\n",
    "    browser = webdriver.Chrome()\n",
    "    browser.get(link)\n",
    "    \n",
    "    chest_element = browser.find_element(By.ID, \"treasure\")\n",
    "    x = chest_element.get_attribute('valuex')\n",
    "    y = calc(x)\n",
    "    \n",
    "    field_to_fill = browser.find_element(By.CSS_SELECTOR, \"#answer\")\n",
    "    field_to_fill.send_keys(y)\n",
    "    \n",
    "    browser.find_element(By.CSS_SELECTOR, \"#robotCheckbox\").click()\n",
    "    browser.find_element(By.CSS_SELECTOR, \"#robotsRule\").click()\n",
    "    \n",
    "    submit_button = browser.find_element(By.CSS_SELECTOR, \"button.btn\")\n",
    "    submit_button.click()\n",
    "\n",
    "finally:\n",
    "    # ожидание чтобы визуально оценить результаты прохождения скрипта\n",
    "    time.sleep(10)\n",
    "    # закрываем браузер после всех манипуляций\n",
    "    browser.quit()"
   ]
  },
  {
   "cell_type": "markdown",
   "metadata": {},
   "source": [
    "# Задание 2.2"
   ]
  },
  {
   "cell_type": "code",
   "execution_count": 19,
   "metadata": {},
   "outputs": [],
   "source": [
    "from selenium import webdriver\n",
    "from selenium.webdriver.common.by import By\n",
    "from selenium.webdriver.support.ui import Select\n",
    "import time\n",
    "import math\n",
    "\n",
    "\n",
    "# select = Select(browser.find_element(By.TAG_NAME, \"select\"))\n",
    "# select.select_by_value(\"1\") # ищем элемент с текстом \"Python\"\n",
    "\n",
    "# Можно использовать еще два метода: select.select_by_visible_text(\"text\") и select.select_by_index(index). Первый способ ищет элемент по видимому тексту, например, select.select_by_visible_text(\"Python\") найдёт \"Python\" для нашего примера.\n",
    "# Второй способ ищет элемент по его индексу или порядковому номеру. Индексация начинается с нуля. Для того чтобы найти элемент с текстом \"Python\", нужно использовать select.select_by_index(1), так как опция с индексом 0 в данном примере имеет значение по умолчанию равное \"--\".\n",
    "\n",
    "try: \n",
    "    link = 'http://suninjuly.github.io/selects1.html'\n",
    "    browser = webdriver.Chrome()\n",
    "    browser.get(link)\n",
    "    \n",
    "    num1 = int(browser.find_element(By.ID, \"num1\").text)\n",
    "    num2 = int(browser.find_element(By.ID, \"num2\").text)\n",
    "    result = num1 + num2\n",
    "    \n",
    "    select = Select(browser.find_element(By.ID, \"dropdown\"))\n",
    "    select.select_by_visible_text(str(result))\n",
    "    \n",
    "    submit_button = browser.find_element(By.CSS_SELECTOR, \"button.btn\")\n",
    "    submit_button.click()\n",
    "\n",
    "finally:\n",
    "    # ожидание чтобы визуально оценить результаты прохождения скрипта\n",
    "    time.sleep(10)\n",
    "    # закрываем браузер после всех манипуляций\n",
    "    browser.quit()"
   ]
  },
  {
   "cell_type": "markdown",
   "metadata": {},
   "source": [
    "# JavaScript execute"
   ]
  },
  {
   "cell_type": "code",
   "execution_count": 8,
   "metadata": {},
   "outputs": [],
   "source": [
    "from selenium import webdriver\n",
    "import time\n",
    "\n",
    "try:\n",
    "    browser = webdriver.Chrome()\n",
    "#     browser.execute_script(\"alert('Robots at work');\")\n",
    "    browser.execute_script('document.title = \"Script executing\"; alert(\"Robots rule!\"); alert(\"Robots do not rule \")')\n",
    "finally:\n",
    "    time.sleep(10)\n",
    "    browser.quit()"
   ]
  },
  {
   "cell_type": "markdown",
   "metadata": {},
   "source": [
    "## Один элемент перекрыт другим"
   ]
  },
  {
   "cell_type": "code",
   "execution_count": 2,
   "metadata": {},
   "outputs": [],
   "source": [
    "from selenium import webdriver\n",
    "from selenium.webdriver.common.by import By\n",
    "\n",
    "with webdriver.Chrome() as browser:\n",
    "    browser.get(\"https://SunInJuly.github.io/execute_script.html\")\n",
    "    button = browser.find_element_by_tag_name(\"button\")\n",
    "    browser.execute_script(\"return arguments[0].scrollIntoView(true);\", button)\n",
    "    button.click()\n",
    "\n",
    "# browser = webdriver.Chrome()\n",
    "# link = \"https://SunInJuly.github.io/execute_script.html\"\n",
    "# browser.get(link)\n",
    "# button = browser.find_element_by_tag_name(\"button\")\n",
    "# browser.execute_script(\"return arguments[0].scrollIntoView(true);\", button)\n",
    "# button.click()"
   ]
  },
  {
   "cell_type": "markdown",
   "metadata": {},
   "source": [
    "# 2.2 Задание на execute_script"
   ]
  },
  {
   "cell_type": "code",
   "execution_count": 22,
   "metadata": {},
   "outputs": [],
   "source": [
    "from selenium import webdriver\n",
    "from selenium.webdriver.common.by import By\n",
    "import time\n",
    "import math\n",
    "\n",
    "def calc(x):\n",
    "    return str(math.log(abs(12*math.sin(x))))\n",
    "  \n",
    "\n",
    "    x = x_element.text\n",
    "    y = calc(x)\n",
    "\n",
    "with webdriver.Chrome() as browser:\n",
    "    browser.get('http://suninjuly.github.io/execute_script.html')\n",
    "    x_element = browser.find_element(By.CSS_SELECTOR, \"#input_value\")\n",
    "    x = float(x_element.text)\n",
    "    y = calc(x)\n",
    "     \n",
    "    text_field = browser.find_element(By.CSS_SELECTOR, \"input#answer\")\n",
    "    text_field.send_keys(y)\n",
    "    \n",
    "    robots_checkbox = browser.find_element(By.CSS_SELECTOR, \"input#robotCheckbox\")\n",
    "    browser.execute_script(\"return arguments[0].scrollIntoView(true);\", robots_checkbox)\n",
    "    robots_checkbox.click()\n",
    "    \n",
    "    robots_rule = browser.find_element(By.CSS_SELECTOR, \"input#robotsRule\")\n",
    "    browser.execute_script(\"return arguments[0].scrollIntoView(true);\", robots_rule)\n",
    "    robots_rule.click()\n",
    "    \n",
    "    button = browser.find_element_by_tag_name(\"button\")\n",
    "    browser.execute_script(\"return arguments[0].scrollIntoView(true);\", button)\n",
    "    button.click()\n",
    "    time.sleep(5)"
   ]
  },
  {
   "cell_type": "markdown",
   "metadata": {},
   "source": [
    "# Пробую фокус окна"
   ]
  },
  {
   "cell_type": "code",
   "execution_count": 13,
   "metadata": {},
   "outputs": [],
   "source": [
    "from selenium import webdriver\n",
    "from selenium.webdriver.common.by import By\n",
    "import time\n",
    "\n",
    "with webdriver.Chrome() as browser:\n",
    "    browser.get('https://www.ya.ru')\n",
    "    time.sleep(1)\n",
    "    browser.switch_to.window(browser.window_handles[0])\n",
    "    \n",
    "#     browser.find_element(By.LINK_TEXT, \"Яндекс\").click()\n",
    "#     time.sleep(5)"
   ]
  },
  {
   "cell_type": "code",
   "execution_count": 10,
   "metadata": {},
   "outputs": [],
   "source": [
    "import os \n",
    "\n",
    "# current_dir = os.path.abspath(os.path.dirname(__file__))    # получаем путь к директории текущего исполняемого файла \n",
    "current_dir = os.getcwd()\n",
    "file_path = os.path.join(current_dir, 'ADHD.txt')           # добавляем к этому пути имя файла \n",
    "# element.send_keys(file_path)\n",
    "\n",
    "# print(os.path.abspath(__file__))\n",
    "# print(os.path.abspath(os.path.dirname(__file__)))"
   ]
  },
  {
   "cell_type": "markdown",
   "metadata": {},
   "source": [
    "# 2.2 Задание загрузка файла"
   ]
  },
  {
   "cell_type": "code",
   "execution_count": 27,
   "metadata": {},
   "outputs": [],
   "source": [
    "from selenium import webdriver\n",
    "from selenium.webdriver.common.by import By\n",
    "import os\n",
    "import time\n",
    "\n",
    "link = 'http://suninjuly.github.io/file_input.html'\n",
    "dirpath = os.getcwd()\n",
    "filename = 'ADHD.txt'\n",
    "filepath = os.path.join(dirpath, filename)\n",
    "\n",
    "with webdriver.Chrome() as browser:\n",
    "    browser.get(link)\n",
    "    \n",
    "    firstname = browser.find_element(By.NAME, 'firstname')\n",
    "    time.sleep(1)\n",
    "    lastname = browser.find_element(By.NAME, 'lastname')\n",
    "    email = browser.find_element(By.NAME, 'email')\n",
    "    file_upload = browser.find_element(By.NAME, 'file')\n",
    "    button = browser.find_element(By.CSS_SELECTOR, 'button.btn-primary')\n",
    "    \n",
    "    firstname.send_keys('Nikita')\n",
    "    lastname.send_keys('Andronov')\n",
    "    email.send_keys('nikitok1@mail.ru')\n",
    "    file_upload.send_keys(filepath)\n",
    "    button.click()\n",
    "    time.sleep(10)\n",
    "    "
   ]
  },
  {
   "cell_type": "markdown",
   "metadata": {},
   "source": [
    "# 2.3 Задание: принимаем алерт"
   ]
  },
  {
   "cell_type": "code",
   "execution_count": 31,
   "metadata": {},
   "outputs": [],
   "source": [
    "from selenium import webdriver\n",
    "from selenium.webdriver.common.by import By\n",
    "\n",
    "import time\n",
    "import math"
   ]
  },
  {
   "cell_type": "code",
   "execution_count": 34,
   "metadata": {},
   "outputs": [],
   "source": [
    "def calc(x):\n",
    "    return str(math.log(abs(12*math.sin(x))))\n",
    "\n",
    "link = 'http://suninjuly.github.io/alert_accept.html'\n",
    "\n",
    "with webdriver.Chrome() as browser:\n",
    "    browser.get(link)\n",
    "    \n",
    "    button = browser.find_element(By.CSS_SELECTOR, 'button.btn-primary')\n",
    "    button.click()\n",
    "    \n",
    "    alert = browser.switch_to.alert\n",
    "    alert.accept()\n",
    "    \n",
    "    x = float(browser.find_element(By.ID, 'input_value').text)\n",
    "    y = calc(x)\n",
    "    \n",
    "    input_field = browser.find_element(By.ID, 'answer')\n",
    "    input_field.send_keys(y)\n",
    "    \n",
    "    button = browser.find_element(By.CSS_SELECTOR, 'button.btn-primary')\n",
    "    button.click()\n",
    "    time.sleep(5)"
   ]
  },
  {
   "cell_type": "markdown",
   "metadata": {},
   "source": [
    "# Задание: переход на новую вкладку"
   ]
  },
  {
   "cell_type": "code",
   "execution_count": 36,
   "metadata": {},
   "outputs": [],
   "source": [
    "from selenium import webdriver\n",
    "from selenium.webdriver.common.by import By\n",
    "import time\n",
    "import math"
   ]
  },
  {
   "cell_type": "code",
   "execution_count": 42,
   "metadata": {},
   "outputs": [],
   "source": [
    "def calc(x):\n",
    "    return str(math.log(abs(12*math.sin(x))))\n",
    "\n",
    "link = 'http://suninjuly.github.io/redirect_accept.html'\n",
    "\n",
    "with webdriver.Chrome() as browser:\n",
    "    browser.get(link)\n",
    "    button = browser.find_element(By.CSS_SELECTOR, 'button.trollface')\n",
    "    button.click()\n",
    "    time.sleep(1)\n",
    "    second_window = browser.window_handles[1]\n",
    "    browser.switch_to.window(second_window)\n",
    "    x = float(browser.find_element(By.CSS_SELECTOR, 'span#input_value').text)\n",
    "    y = calc(x)\n",
    "    input_field = browser.find_element(By.CSS_SELECTOR, 'input#answer')\n",
    "    input_field.send_keys(y)\n",
    "    button = browser.find_element(By.CSS_SELECTOR, 'button.btn-primary')\n",
    "    button.click()\n",
    "    time.sleep(7)"
   ]
  },
  {
   "cell_type": "markdown",
   "metadata": {},
   "source": [
    "# Определение типа прерывания"
   ]
  },
  {
   "cell_type": "code",
   "execution_count": 44,
   "metadata": {},
   "outputs": [],
   "source": [
    "from selenium import webdriver\n",
    "from selenium.webdriver.common.by import By\n",
    "\n",
    "with webdriver.Chrome() as browser:\n",
    "    browser.get('http://suninjuly.github.io/cats.html')\n",
    "#     browser.find_element(By.ID, \"button\")"
   ]
  },
  {
   "cell_type": "markdown",
   "metadata": {},
   "source": [
    "# Implicit wait"
   ]
  },
  {
   "cell_type": "code",
   "execution_count": 63,
   "metadata": {},
   "outputs": [],
   "source": [
    "from selenium import webdriver\n",
    "from selenium.webdriver.common.by import By\n",
    "\n",
    "with webdriver.Chrome() as browser:\n",
    "    browser.implicitly_wait(5) # говорим WebDriver искать каждый элемент в течение 5 секунд\n",
    "    browser.get(\"http://suninjuly.github.io/wait1.html\")\n",
    "    button = browser.find_element(By.ID, \"verify\")\n",
    "    button.click()\n",
    "    message = browser.find_element(By.ID, \"verify_message\")\n",
    "    assert \"successful\" in message.text\n",
    "\n",
    "\n",
    "\n",
    "\n",
    "\n",
    "\n"
   ]
  },
  {
   "cell_type": "markdown",
   "metadata": {},
   "source": [
    "# 2.4 Задание: ждём нужный текст на странице"
   ]
  },
  {
   "cell_type": "code",
   "execution_count": 58,
   "metadata": {},
   "outputs": [],
   "source": [
    "from selenium import webdriver\n",
    "from selenium.webdriver.common.by import By\n",
    "from selenium.webdriver.support.ui import WebDriverWait\n",
    "from selenium.webdriver.support import expected_conditions as EC\n",
    "import time\n",
    "import math"
   ]
  },
  {
   "cell_type": "code",
   "execution_count": 62,
   "metadata": {},
   "outputs": [],
   "source": [
    "def calc(x):\n",
    "    return str(math.log(abs(12*math.sin(x))))\n",
    "\n",
    "link = 'http://suninjuly.github.io/explicit_wait2.html'\n",
    "\n",
    "with webdriver.Chrome() as browser:\n",
    "    browser.get(link)\n",
    "    WebDriverWait(browser, 12).until(EC.text_to_be_present_in_element((By.ID, 'price'), '$100'))\n",
    "#     EC.text_to_be_present_in_element((By.ID, \"operations_monitoring_tab_current_ct_fields_no_data\"), \"No data to display\")\n",
    "    button = browser.find_element(By.CSS_SELECTOR, 'button.btn-primary')\n",
    "    button.click()\n",
    "    \n",
    "    x = float(browser.find_element(By.CSS_SELECTOR, 'span#input_value').text)\n",
    "    y = calc(x)\n",
    "    input_field = browser.find_element(By.CSS_SELECTOR, 'input#answer')\n",
    "    input_field.send_keys(y)\n",
    "    button = browser.find_element(By.CSS_SELECTOR, 'button#solve')\n",
    "    button.click()\n",
    "\n",
    "    time.sleep(10)\n",
    "    "
   ]
  },
  {
   "cell_type": "markdown",
   "metadata": {},
   "source": [
    "# Попытка конвертировать .ipynb в .py"
   ]
  },
  {
   "cell_type": "code",
   "execution_count": 64,
   "metadata": {},
   "outputs": [
    {
     "name": "stderr",
     "output_type": "stream",
     "text": [
      "[NbConvertApp] Converting notebook test.ipynb to script\n",
      "[NbConvertApp] Writing 1235 bytes to test.py\n"
     ]
    }
   ],
   "source": [
    "!jupyter nbconvert --to script test.ipynb"
   ]
  }
 ],
 "metadata": {
  "kernelspec": {
   "display_name": "Python 3",
   "language": "python",
   "name": "python3"
  },
  "language_info": {
   "codemirror_mode": {
    "name": "ipython",
    "version": 3
   },
   "file_extension": ".py",
   "mimetype": "text/x-python",
   "name": "python",
   "nbconvert_exporter": "python",
   "pygments_lexer": "ipython3",
   "version": "3.8.3"
  }
 },
 "nbformat": 4,
 "nbformat_minor": 4
}
